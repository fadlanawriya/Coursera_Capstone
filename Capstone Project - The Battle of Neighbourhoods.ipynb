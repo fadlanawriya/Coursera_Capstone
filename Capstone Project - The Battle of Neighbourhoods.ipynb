{
    "cells": [
        {
            "cell_type": "markdown",
            "metadata": {
                "collapsed": true
            },
            "source": "#### Capstone Project - The Battle of Neighborhoods (Week 1) ####"
        },
        {
            "cell_type": "markdown",
            "metadata": {},
            "source": "# Open up an Filipino Restaurant in the City of Toronto #\n\n### By Ahmad Fadlan Awriya ###\nA final report for the course \"[Applied Data Science Capstone](https://www.coursera.org/learn/applied-data-science-capstone/)\" given by IBM on Coursera\n\n\n#### TL:DR ####\nIn this project, I define a business problem, search and clean data gathered from various sources, and use Foursquare location data to compare different<br> \nneighbourhoods in Toronto to figureout which neighbourhood is suitable for starting a new restaurant business. I go through all the process in a<br> \nstep by step manner from plem designing, data preparation to final analysis and lastly, provide a conclusion that can be leveraged by the<br>\nbusiness stakeholders to make their decisions.\n"
        },
        {
            "cell_type": "markdown",
            "metadata": {},
            "source": "## 1. Problem's Description ##\n\n### Prospects of a opening an Indonesian Restaurant in Toronto, Canada. ###\nToronto is the capital city of the Canadian province of Ontario. With a recorded population of 2,731,571 in 2016, it is the most populous city in Canada and the fourth most populous city in North America.<br>\nThe diverse population of Toronto reflects its current and historical role as an important destination for immigrants to Canada. More than 50 percent of residents belong to a visible minority<br>\npopulation group, and over 200 distinct ethnic origins are represented among its inhabitants. While the majority of Torontonians speak English as their primary language,<br>\nover 160 languages are spoken in the city.\n\nLooking to the diversity that Toronto has, I forecast in the next few years there will be more and more Filipino Immigrant that comes to Toronto and try to open up an Filipino Restaurant.<br>\nAs a new Torontonians (People of Toronto), it will be hard for them to know which place is promising to open up a new Filipino Restaurant, and which one is not that good. If we have some<br>\nknowledge about the niche market (target customer) and which neighbourhoods will we open up the restaurant, it definitely will make the restaurant more profitable. Since we already know<br>\nthat Toronto holds more than 50 percent resident from visible minority, it is a good idea to start the restaurant here, but we just need to make sure whether it is a profitable<br>\nidea or not. If so, where we can place it, so it yields more profit to the owner.\n\n\n### Target Audience ###\nWho will be more interested in this project? What type of clients or a group of people would be benefitted?\n<ol>\n    <li>Business personel who wants to invest or open an Indonesian restaurant in Toronto. This analysis will be a comprehensive guide to start or expand restaurants<br>\n        targeting the Filipino as well as South-East Asian crowd.</li>\n    <li>Freelancer who loves to have their own restaurant as a side business. This analysis will give an idea, how beneficial it is to open a restaurant and what are<br>\n        the pros and cons of this business.</li>\n    <li>Filipino crowd who wants to find neighborhoods with lots of option for Filipino / South-East Asian restaurants.</li>\n    <li>Business Analyst or Data Scientists, who wish to analyze the neighborhoods of Toronto using Exploratory Data Analysis and other statistical and machine learning<br>\n        techniques to obtain all the necessary data,\n        perform some operations on it and, finally be able to tell a story out of it.</li>\n    </ol>\n    \n\n### Business Questions ###\nBy using Data Science and some geometric factors about the relation between neighbourhoods in Toronto, we can give good answers of following questions<br>\nto the investors so that they can have a better vision about not only the restaurant but also about other venues in Toronto.\n<ol>\n    <li>How many venues in each neighbourhood? Answering this question gives us a better understanding about the dynamic level of a neighbourhood.</li>\n    <li>How many categories in each neighbourhood? Answering this question helps us know about the diversity in business of a neighbourhood.</li>\n    <li>How many venues in each category? This question shows the magnitude of a category in a district.</li>\n    <li>What are the most popular categories in each district? If investors change their mind to focus on other commercial fields instead of opening a restaurant.</li>\n    <li>Visualize all information on the map so that we can have a better look on what we want to find the answers!</li>\n    </ol>\n    \n    \n### Data Presentation ###\n<ol>\n    <li>List of Canada Postal Code from Wikipedia. (https://en.wikipedia.org/wiki/List_of_postal_codes_of_Canada:_M) wiki page to get all the information about<br>\n        the neighborhoods present in Toronto. This page has the postal code, borough and the name of all the neighborhoods present in Toronto.</li>\n    <li>List of coordinates (latitude, longitude) gather from \u201chttps://cocl.us/Geospatial_data\u201d csv file to get all the geographical coordinates of the neighborhoods.<br>\n        The list can also be obtain by using package <i>geopy.geocoders.Nominatim.</i>.</li>\n    <li>Information regarding to the distribution of population by their ethnicity gathered from \u201cDemographics of Toronto\u201d (https://en.m.wikipedia.org/wiki/Demographics_of_Toronto#Ethnic_diversity)<br>\n        wiki page. Using this page I\u2019m going to identify the neighborhoods which are densely populated with Filipino as it might be helpful in identifying<br>\n        the suitable neighborhood to open a new Filipino restaurant.</li>\n    <li>Information on location and other information about various venues in Toronto by using Foursquare\u2019s explore API. Using the Foursquare\u2019s explore API (which gives venues recommendations),<br>\n        I\u2019m fetching details about the venues up present in Toronto and collected their names, categories and locations (latitude and longitude).<br>\n        From Foursquare API (https://developer.foursquare.com/docs), I retrieved the following for each venue:</li>\n    </ol>\n    <ul>\n    <li> Name: The name of the venue</li>\n    <li> Category: The category type as defined by the API</li>\n    <li> Latitude: The latitude value of the venue</li>\n    <li> Longitude: The longitude value of the venue</li>\n    </ul>"
        },
        {
            "cell_type": "code",
            "execution_count": null,
            "metadata": {},
            "outputs": [],
            "source": ""
        },
        {
            "cell_type": "code",
            "execution_count": null,
            "metadata": {},
            "outputs": [],
            "source": ""
        },
        {
            "cell_type": "code",
            "execution_count": null,
            "metadata": {},
            "outputs": [],
            "source": ""
        }
    ],
    "metadata": {
        "kernelspec": {
            "display_name": "Python 3.7",
            "language": "python",
            "name": "python3"
        },
        "language_info": {
            "codemirror_mode": {
                "name": "ipython",
                "version": 3
            },
            "file_extension": ".py",
            "mimetype": "text/x-python",
            "name": "python",
            "nbconvert_exporter": "python",
            "pygments_lexer": "ipython3",
            "version": "3.7.9"
        }
    },
    "nbformat": 4,
    "nbformat_minor": 1
}